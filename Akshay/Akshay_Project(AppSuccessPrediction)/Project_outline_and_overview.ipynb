{
 "cells": [
  {
   "cell_type": "markdown",
   "metadata": {},
   "source": [
    "# Predict App Success on the Google Play Store using Machine Learning"
   ]
  },
  {
   "cell_type": "raw",
   "metadata": {},
   "source": [
    "Internity Foundation Machine Learning with python Final Project"
   ]
  },
  {
   "cell_type": "markdown",
   "metadata": {},
   "source": [
    "Dataset: Kaggle Google Play Store Apps https://www.kaggle.com/lava18/google-play-store-apps"
   ]
  },
  {
   "cell_type": "markdown",
   "metadata": {},
   "source": [
    "# Motivation:"
   ]
  },
  {
   "cell_type": "markdown",
   "metadata": {},
   "source": [
    "* Gain edge over the industry competition for app success.\n",
    "* Provide insight for advertisement companies on which apps would generate the most revenue if ads were added.\n",
    "* Assist Android developers to develop state-of-the-art apps that the public deserve."
   ]
  },
  {
   "cell_type": "markdown",
   "metadata": {},
   "source": [
    "# Research Questions:"
   ]
  },
  {
   "cell_type": "markdown",
   "metadata": {},
   "source": [
    "1. Can you predict an app's popularity on the Google Play Store using a Decision Tree or any classifier model?"
   ]
  },
  {
   "cell_type": "markdown",
   "metadata": {},
   "source": [
    "2. If a developer were to create a new app, what qualities should this app have in order to generate the most ad revenue?"
   ]
  },
  {
   "cell_type": "markdown",
   "metadata": {},
   "source": [
    "# Results:"
   ]
  },
  {
   "cell_type": "markdown",
   "metadata": {},
   "source": [
    "* ~95% Accuracy if using Reviews and Ratings columns.\n",
    "* ~72% Accuracy if not using above columns. (More realistic as reviews/ratings will be null if app is not on the Play store.)"
   ]
  },
  {
   "cell_type": "markdown",
   "metadata": {},
   "source": [
    "# UPDATE - Fix These:"
   ]
  },
  {
   "cell_type": "raw",
   "metadata": {},
   "source": [
    "Issues found with the model/process used in this Jupyter Notebook:"
   ]
  },
  {
   "cell_type": "markdown",
   "metadata": {},
   "source": [
    "* When preprocessing the model, OneHotEncoding should have been used rather than the LabelEncoder. This is because a bias may exist between numbers in 0-33 rather than a matrix of 0 and 1 for category, genre, and content rating.\n",
    "* A K-fold Cross Validation set should have been used to find tune the model before using the test set.\n",
    "* Other models could have been used during the cross validation process to determine the best binary classifier model to use.\n",
    "* ROC AUC or precision/recall curves should have been created to determine the best decision threshold for the model."
   ]
  },
  {
   "cell_type": "markdown",
   "metadata": {},
   "source": [
    "# Future Work:"
   ]
  },
  {
   "cell_type": "markdown",
   "metadata": {},
   "source": [
    "* Models which will most likely have better performance are K Nearest-Neighbors, Logistic Regression, Random Forests, and XGBoost. \n",
    "\n",
    "* We are also going to compare the accuracy of different different model so that we can find a best model."
   ]
  },
  {
   "cell_type": "markdown",
   "metadata": {},
   "source": [
    "# Requirements:"
   ]
  },
  {
   "cell_type": "markdown",
   "metadata": {},
   "source": [
    "Jupyter Notebook may be used with any OS. Ensure you have pip installed the latest versions of the following:"
   ]
  },
  {
   "cell_type": "markdown",
   "metadata": {},
   "source": [
    "* Pandas\n",
    "* Numpy\n",
    "* Seaborn\n",
    "* Sklearn\n",
    "* Plotly\n",
    "* Matplotlib"
   ]
  },
  {
   "cell_type": "code",
   "execution_count": null,
   "metadata": {},
   "outputs": [],
   "source": []
  }
 ],
 "metadata": {
  "kernelspec": {
   "display_name": "Python 3",
   "language": "python",
   "name": "python3"
  },
  "language_info": {
   "codemirror_mode": {
    "name": "ipython",
    "version": 3
   },
   "file_extension": ".py",
   "mimetype": "text/x-python",
   "name": "python",
   "nbconvert_exporter": "python",
   "pygments_lexer": "ipython3",
   "version": "3.7.3"
  }
 },
 "nbformat": 4,
 "nbformat_minor": 2
}
